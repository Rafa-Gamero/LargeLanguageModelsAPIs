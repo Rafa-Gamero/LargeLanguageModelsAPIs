{
 "cells": [
  {
   "cell_type": "markdown",
   "metadata": {},
   "source": [
    "# Proyecto: Chatbot Generador de Cuentos\n"
   ]
  },
  {
   "cell_type": "markdown",
   "metadata": {},
   "source": [
    "## Descripción del Proyecto\n",
    "\n",
    "El objetivo del proyecto es desarrollar un chatbot que permita a los usuarios generar cuentos cortos personalizados. El usuario puede interactuar con el chatbot proporcionando información sobre el tipo de cuento que desea (aventura, misterio, ciencia ficción, etc.), los personajes principales y el tono (divertido, serio, misterioso, etc.). Basado en esta información, el chatbot generará un cuento único en cada interacción.\n",
    "\n",
    "Características Principales\n",
    "Personalización de cuentos: Los usuarios pueden proporcionar parámetros como el género del cuento, los personajes, y otros detalles.\n",
    "Interacción conversacional: El chatbot interactuará con el usuario, haciendo preguntas para obtener más detalles sobre la historia antes de generar el cuento.\n",
    "Generación de múltiples versiones: Cada vez que el usuario genera un cuento, puede obtener una versión diferente del mismo concepto cambiando algunos parámetros, lo que fomenta la creatividad."
   ]
  },
  {
   "cell_type": "code",
   "execution_count": null,
   "metadata": {},
   "outputs": [],
   "source": [
    "from functions import *"
   ]
  },
  {
   "cell_type": "code",
   "execution_count": 11,
   "metadata": {},
   "outputs": [
    {
     "name": "stdout",
     "output_type": "stream",
     "text": [
      "¡Hola! Soy un chatbot que genera cuentos. ¿Qué tipo de cuento te gustaría?\n",
      "\n",
      "Generando tu cuento...\n",
      "\n",
      " Título: \"La Sombra Misteriosa del Bosque\"\n",
      "\n",
      "Hace mucho tiempo, en el reino de Eldoria, una princesa joven llamada Arianna vivía en el majestuoso Castillo de Cristal. Su corazón era tan puro como el cristal de las ventanas del castillo, y su espíritu estaba lleno de armonía con el mundo natural circundante.\n",
      "\n",
      "A diferencia de otras princesas, Arianna no deseaba ser coronada y vestida con túnicas extravagantes y sellanados al palacio. Le encantaba mucho escuchar historias antiguas contadas por las crónicas de los sabios, conocedores de la naturaleza. Deseaba unirse a los bosques eternos, apartada del brillo perdurable del Castillo de Cristal.\n",
      "\n",
      "De repente, una noche de luna llena, mientras Arianna caminaba por la frontera desolada del reino, escuchó una melodía melancólica proveniente de profundidades sombrías. Intrigada y entrelazada por la melodía que parecía vibrar en el aire, decidió adentrarse en la oscuridad envuelta en silencio.\n",
      "\n",
      "Más allá del umbral del bosque, Arianna encontró una cueva envuelta en serpenteante gigantismo de espinas. Al entrar en la cueva, una figura agnóstica de plano se reveló contra la oscuridad; un intrigante mono con ojos tan brillantes como las estrellas estrellas circundantes. Su cabello era como el antiguo invierno, pegado y caído libremente hasta la cintura.\n",
      "\n",
      "Arianna, generalmente velada con su conocimiento de compartir y el interés común, dio un saludo afectuoso. El mono, cuyo nombre era Morlsahn, pareció guardar un secreto maldito mientras sus largas narices formaban proyecciones en las sombras. Inquieto pero curioso, inquiría después las razones de su visita.\n",
      "¡Hola! Soy un chatbot que genera cuentos. ¿Qué tipo de cuento te gustaría?\n",
      "\n",
      "Generando tu cuento...\n",
      "\n",
      " Title: El Paseo Nocturno de la Sombra\n",
      "\n",
      "Había una vez en el pequeño y tranquilo pueblo de Rosedale, un viejo castillo cubierto de vegetación con más historias que paredes. El castillo, una vez el hogar de la familia Wraithbone, era conocido por sus visitantes por el miedo amortiguado por la fascinación del pasado.\n",
      "\n",
      "En el corazón de Rosedale, un pequeño niño llamado Eli tranquilizaba los sentidos de los felices habitantes del pueblo con su imaginación creativa y su mente ingeniosa. Eli estaba fascinado por la historia de la mansión Wraithbone, particularmente por los secretos que los ancianos aseguraban residenciaban en su oscuro interior.\n",
      "\n",
      "Una luna llena casi llenó las tinieblas de la noche en la noche de Halloween, y Eli decidió guiar a un grupo entusiasmado de pequeños en un paseo nocturno. El refrán villano del castillo \"Ver con el corazón y escuchar con los ojos\" persistió en su mente como una promesa de aventura. Hay una fría serenidad cuando los compañeros peques suben los escalones polvorientos, turbados por la sombra que flota tras ellos, una ilustración misteriosa de la casa en ruinas.\n",
      "\n",
      "Instalados en la cima de la colina aledaña, vieron la silueta del colosal castillo interrumpida por las nieblas que se deshacían entre los árboles. La brisa recogió los susurros de modificación y una melodía melancólica que parecía proceder de las estancias vacías.\n",
      "\n",
      "El grupo de héroes cautivados estrechó sus nuevos amigos silenciosos, escuchando emboscadas susurradas de mercaderías de fantasmas. Una voz susurraba del cuento antiguo de un niño abandonado que jamás fue encontrado. Sin conocimiento de sus acciones, los padres de Eli lo\n",
      "Tu cuento ha sido guardado.\n"
     ]
    }
   ],
   "source": [
    "Genera_cuentos()"
   ]
  }
 ],
 "metadata": {
  "kernelspec": {
   "display_name": "base",
   "language": "python",
   "name": "python3"
  },
  "language_info": {
   "codemirror_mode": {
    "name": "ipython",
    "version": 3
   },
   "file_extension": ".py",
   "mimetype": "text/x-python",
   "name": "python",
   "nbconvert_exporter": "python",
   "pygments_lexer": "ipython3",
   "version": "3.9.19"
  }
 },
 "nbformat": 4,
 "nbformat_minor": 2
}
