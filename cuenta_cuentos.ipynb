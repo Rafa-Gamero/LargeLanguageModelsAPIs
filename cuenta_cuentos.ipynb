{
 "cells": [
  {
   "cell_type": "markdown",
   "metadata": {},
   "source": [
    "# Proyecto: Chatbot Generador de Cuentos\n"
   ]
  },
  {
   "cell_type": "markdown",
   "metadata": {},
   "source": [
    "## Descripción del Proyecto\n",
    "\n",
    "El objetivo del proyecto es desarrollar un chatbot que permita a los usuarios generar cuentos cortos personalizados. El usuario puede interactuar con el chatbot proporcionando información sobre el tipo de cuento que desea (aventura, misterio, ciencia ficción, etc.), los personajes principales y el tono (divertido, serio, misterioso, etc.). Basado en esta información, el chatbot generará un cuento único en cada interacción.\n",
    "\n",
    "Características Principales\n",
    "Personalización de cuentos: Los usuarios pueden proporcionar parámetros como el género del cuento, los personajes, y otros detalles.\n",
    "Interacción conversacional: El chatbot interactuará con el usuario, haciendo preguntas para obtener más detalles sobre la historia antes de generar el cuento.\n",
    "Generación de múltiples versiones: Cada vez que el usuario genera un cuento, puede obtener una versión diferente del mismo concepto cambiando algunos parámetros, lo que fomenta la creatividad."
   ]
  },
  {
   "cell_type": "code",
   "execution_count": 1,
   "metadata": {},
   "outputs": [],
   "source": [
    "from functions import *"
   ]
  },
  {
   "cell_type": "code",
   "execution_count": 2,
   "metadata": {},
   "outputs": [
    {
     "name": "stdout",
     "output_type": "stream",
     "text": [
      "¡Hola! Soy un chatbot que genera cuentos. ¿Qué tipo de cuento te gustaría?\n",
      "\n",
      "Generando tu cuento...\n",
      "\n",
      " Título: \"El Gran Desafío: La Batalla de las Colinas y los Albur de la Naturaleza\"\n",
      "\n",
      "En una llanura verde y soleada, rodeada por un bosque suntuoso y una playa de arena dorada, vivían dos amigos inesperados: Herman, la hormiga más hábil y dedicado de toda la comarca de Granja Abundante, y Monty, el saltamontes más agudo y libre de los Sylphides Húmedos. Aunque pertenecían a especies tan diferentes, compartían una hermosa amistad y una pasión mutua por las aventuras.\n",
      "\n",
      "Un día brumoso y juguetón, mientras las nubes lentamente aristaban entre las hojas suaves del bosque, Herman y Monty decidieron aventurarse más allá de su cotidiano reino comprensivo. La promesa de un antiguo y bellísimo «Placer de las Colinas» había cautivado su imaginación, y juntos los desafiaron una corriente de aventura y esparcimiento.\n",
      "\n",
      "Con un picote de saliva y anticipación encendida, Herman, llevando prácticamente su casa, y Monty, portando su corona dorada y etérea, se dirigieron con sueños al anhelado destino. Sus caminos los separó durante la larga caminata, no obstante, más que nunca ninguno de los dos deseaba dejar de reunirse.\n",
      "\n",
      "Por días y noches, Herman viajó a pie entre hojas, ramas y piedras. Desentrañó el entusiasmo y una escasez determinada del pequeño animalito compulsivo de trabajo. Sabía que este gran reto merecía una perseverancia disciplinada, pero su corazón seguía volando alto para «La Colina del Confort».\n",
      "\n",
      "Por su parte, Monty compró aire bailando sobre las ramas y paleándose atisbos. Mantenía un ojo confiado en la vasta militaridad de la tierra con los saltos y zarandeos veloz, así se aseguró de no compartir una caminata tan intensa con su amigo hormigón. Llevaba la esencia de una batalla, pero por mera diversión, no podía esconder su alegría ante el gran tesoro que se acercaba.\n",
      "\n",
      "Hacia el final del día, el cielo se arremolinó con tonos de azul y oro, adhiriéndose al resplandor encendido de su sueño etéreo. Desde la cima de una roca opuesta, Herman encontró los posado tamices dorados de Monty, superponiéndose con comodidad entre plata y arcoíris. Frente a él, la colina se inclinaba con elusivo quehacer de meros césares terrenales.\n",
      "\n",
      "Ellos hicieron su jubilosa escena. Herman, con audacia acorde, bajó abruptamente para hacer su abrazo alemán, mientras Monty saltaba a lo lejos, manteniéndose alto con batacazos y hazañas adelantadas. Por un momento, amigos imaginarios se reunieron, mezclándose en conferencias bellas, historia «Pacifista y Comercial», cocinado canciones campestres.\n",
      "\n",
      "Eventualmente, sus vidas retumbaron la prueba – sobrevivencia, maniobra, y algunas pruebas buceantas – y como sueños rechazados, tarde o temprano se enfrentaron a una cruel prueba termal: un espíritu hormiguero no medible se había mantenido delante de su buena suerte.\n",
      "\n",
      "Con visión tenaz y pragmático, Herman sostuvo un reposado gesto y acusó al rechazado viejo por las suyas, ofreciendo el aneroje de la niebla como un mundo de rencores y miedos. Así, Monty comenzó a saltar más rápido, transformando la inclemencia del clima en viziosas escalonaderas para el saltador de arte galardonado.\n",
      "\n",
      "Cruzar el difícil terreno,\n",
      "Por favor elige una opción válida.\n",
      "Tu cuento ha sido guardado.\n"
     ]
    }
   ],
   "source": [
    "Genera_cuentos()"
   ]
  }
 ],
 "metadata": {
  "kernelspec": {
   "display_name": "base",
   "language": "python",
   "name": "python3"
  },
  "language_info": {
   "codemirror_mode": {
    "name": "ipython",
    "version": 3
   },
   "file_extension": ".py",
   "mimetype": "text/x-python",
   "name": "python",
   "nbconvert_exporter": "python",
   "pygments_lexer": "ipython3",
   "version": "3.9.19"
  }
 },
 "nbformat": 4,
 "nbformat_minor": 2
}
